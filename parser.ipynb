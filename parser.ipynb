{
 "cells": [
  {
   "cell_type": "code",
   "execution_count": 9,
   "metadata": {},
   "outputs": [
    {
     "name": "stdout",
     "output_type": "stream",
     "text": [
      "[None, 'S2', ['ev1', 'ev2', 'ev3'], ['\"foo == 0\"'], ['\"foo = 1\"']]\n"
     ]
    },
    {
     "data": {
      "text/plain": [
       "'pretty(tree)'"
      ]
     },
     "execution_count": 9,
     "metadata": {},
     "output_type": "execute_result"
    }
   ],
   "source": [
    "import lark\n",
    "\n",
    "\n",
    "grammar = \"\"\"root: (state | transition)*\n",
    "state: \"state\" STATE \"{\" (state | transition | internal_transition)* \"}\"\n",
    "internal_transition: \":\" TRIGGER (\"[\" GUARD \"]\")? (\"/\" BEHAVIOR)?\n",
    "transition: (STATE | ENDPOINT)? \"->\" (STATE | ENDPOINT) (\":\" (TRIGGER (\",\" TRIGGER)*)? (\"[\" GUARD \"]\")? (\"/\" BEHAVIOR)?)?\n",
    "\n",
    "STATE: CNAME\n",
    "TRIGGER: CNAME\n",
    "GUARD: ESCAPED_STRING\n",
    "BEHAVIOR: ESCAPED_STRING\n",
    "ENDPOINT: \"[*]\"\n",
    "\n",
    "%import common.CNAME\n",
    "%import common.ESCAPED_STRING\n",
    "%import common.LF\n",
    "%import common.LETTER\n",
    "%import common.INT -> NUMBER\n",
    "%import common.WS\n",
    "%ignore WS\"\"\"\n",
    "json_parser = lark.Lark(grammar, start=\"root\")\n",
    "\n",
    "\n",
    "text = \"\"\"[*] -> S1 : ev0 / \"c = 1;\"\n",
    "\n",
    "\tstate S1 {\n",
    "\t\t[*] -> S11\n",
    "\n",
    "\t\tstate S11 {\n",
    "\t\t\tstate S111 {\n",
    "\n",
    "\t\t\t}\n",
    "\t\t\tstate S112 {\n",
    "\n",
    "\t\t\t}\n",
    "\t\t}\n",
    "\n",
    "\t\tstate S12 {\n",
    "\t\t\tstate S121 {\n",
    "\n",
    "\t\t\t}\n",
    "\t\t\tstate S122 {\n",
    "\n",
    "\t\t\t}\n",
    "\t\t}\n",
    "\n",
    "\t\t-> S2 : ev1, ev2, ev3 [\"foo == 0\"] / \"foo = 1\"\n",
    "\t}\n",
    "\n",
    "\tstate S2 {\n",
    "\t\tstate S21 {\n",
    "\n",
    "\t\t}\n",
    "\t\tstate S22 {\n",
    "\n",
    "\t\t}\n",
    "\t}\n",
    "\"\"\"\n",
    "tree = json_parser.parse(text)\n",
    "#print(tree.pretty())\n",
    "\n",
    "actions = {\"root\": None,\n",
    "           \"transition\": None,\n",
    "           \"state\": None}\n",
    "\n",
    "def processa_transicao(children):\n",
    "    if children[1].type in [\"STATE\", \"ENDPOINT\"]:\n",
    "        transicao = [children[0].value, children[1].value, [], [], []]\n",
    "        children = children[1:]\n",
    "    else:\n",
    "        transicao = [None, children[0].value, [], [], []]\n",
    "    for node in children[1:]:\n",
    "        if node.type == \"TRIGGER\":\n",
    "            transicao[2].append(node.value)\n",
    "        elif node.type == \"GUARD\":\n",
    "            transicao[3].append(node.value)\n",
    "        elif node.type == \"BEHAVIOR\":\n",
    "            transicao[4].append(node.value)\n",
    "        else:\n",
    "            print(\"Tipo de nó desconhecido\", type(node))\n",
    "\n",
    "    return transicao\n",
    "\n",
    "def processa_estado(parent, children):\n",
    "    estado = [\"\", [], parent, [], []]\n",
    "    for node in children:\n",
    "        if type(node) == lark.lexer.Token:\n",
    "            if node.type == \"STATE\":\n",
    "                estado[0] = node.value\n",
    "                print(\"Detectamos um Token: \", node.value)\n",
    "            else:\n",
    "                print(\"Token desconhecido\")\n",
    "    \n",
    "        elif type(node) == lark.tree.Tree:\n",
    "            print(\"Detectamos uma Tree: \", node.children[0].value)\n",
    "            if node.data == \"state\":\n",
    "                estado[1].append(processa_estado(estado[0], node.children))\n",
    "            elif node.data == \"transition\":\n",
    "                estado[3].append(processa_transicao(node.children))\n",
    "                '''#testar se tem estado inicial'''\n",
    "            elif node.data == \"internal_transition\":\n",
    "                estado[4].append(processa_transicao_interna(estado, node))\n",
    "            else:\n",
    "                print(\"Árvore desconhecida: \", node.data)\n",
    "        else:\n",
    "            print(\"Tipo de nó desconhecido\", type(node))\n",
    "    \n",
    "    return estado\n",
    "\n",
    "def pretty(tree, indentacao=\"\"):\n",
    "   # actions[tree.data](tree.children)\n",
    "    print(indentacao + \"Data: {}\".format(tree.data))\n",
    "    for node in tree.children:\n",
    "        if type(node) == lark.tree.Tree:\n",
    "            print(indentacao + \"===Tree===\")\n",
    "            pretty(node, indentacao + \"   \")\n",
    "        else:\n",
    "            print(\"{}Child: {}\".format(indentacao, node))\n",
    "\n",
    "print(processa_transicao(tree.children[1].children[4].children))\n",
    "\n",
    "\n",
    "'''pretty(tree)'''\n",
    "\n"
   ]
  },
  {
   "cell_type": "code",
   "execution_count": 10,
   "metadata": {},
   "outputs": [
    {
     "data": {
      "text/plain": [
       "Tree(state, [Token(STATE, 'S2'), Tree(state, [Token(STATE, 'S21')]), Tree(state, [Token(STATE, 'S22')])])"
      ]
     },
     "execution_count": 10,
     "metadata": {},
     "output_type": "execute_result"
    }
   ],
   "source": [
    "tree.children[2]"
   ]
  },
  {
   "cell_type": "code",
   "execution_count": 11,
   "metadata": {},
   "outputs": [
    {
     "data": {
      "text/plain": [
       "[Token(STATE, 'S2'),\n",
       " Tree(state, [Token(STATE, 'S21')]),\n",
       " Tree(state, [Token(STATE, 'S22')])]"
      ]
     },
     "execution_count": 11,
     "metadata": {},
     "output_type": "execute_result"
    }
   ],
   "source": [
    "tree.children[2].children"
   ]
  },
  {
   "cell_type": "code",
   "execution_count": 12,
   "metadata": {},
   "outputs": [
    {
     "name": "stdout",
     "output_type": "stream",
     "text": [
      "Detectamos um Token:  S2\n",
      "Detectamos uma Tree:  S21\n",
      "Detectamos um Token:  S21\n",
      "Detectamos uma Tree:  S22\n",
      "Detectamos um Token:  S22\n"
     ]
    },
    {
     "data": {
      "text/plain": [
       "['S2', [['S21', [], 'S2', [], []], ['S22', [], 'S2', [], []]], None, [], []]"
      ]
     },
     "execution_count": 12,
     "metadata": {},
     "output_type": "execute_result"
    }
   ],
   "source": [
    "processa_estado(None, tree.children[2].children)"
   ]
  },
  {
   "cell_type": "code",
   "execution_count": 13,
   "metadata": {},
   "outputs": [
    {
     "data": {
      "text/plain": [
       "[Token(STATE, 'S1'),\n",
       " Tree(transition, [Token(ENDPOINT, '[*]'), Token(STATE, 'S11')]),\n",
       " Tree(state, [Token(STATE, 'S11'), Tree(state, [Token(STATE, 'S111')]), Tree(state, [Token(STATE, 'S112')])]),\n",
       " Tree(state, [Token(STATE, 'S12'), Tree(state, [Token(STATE, 'S121')]), Tree(state, [Token(STATE, 'S122')])]),\n",
       " Tree(transition, [Token(STATE, 'S2'), Token(TRIGGER, 'ev1'), Token(TRIGGER, 'ev2'), Token(TRIGGER, 'ev3'), Token(GUARD, '\"foo == 0\"'), Token(BEHAVIOR, '\"foo = 1\"')])]"
      ]
     },
     "execution_count": 13,
     "metadata": {},
     "output_type": "execute_result"
    }
   ],
   "source": [
    "tree.children[1].children"
   ]
  },
  {
   "cell_type": "code",
   "execution_count": 14,
   "metadata": {},
   "outputs": [
    {
     "name": "stdout",
     "output_type": "stream",
     "text": [
      "Detectamos um Token:  S1\n",
      "Detectamos uma Tree:  [*]\n",
      "Detectamos uma Tree:  S11\n",
      "Detectamos um Token:  S11\n",
      "Detectamos uma Tree:  S111\n",
      "Detectamos um Token:  S111\n",
      "Detectamos uma Tree:  S112\n",
      "Detectamos um Token:  S112\n",
      "Detectamos uma Tree:  S12\n",
      "Detectamos um Token:  S12\n",
      "Detectamos uma Tree:  S121\n",
      "Detectamos um Token:  S121\n",
      "Detectamos uma Tree:  S122\n",
      "Detectamos um Token:  S122\n",
      "Detectamos uma Tree:  S2\n"
     ]
    },
    {
     "data": {
      "text/plain": [
       "['S1',\n",
       " [['S11',\n",
       "   [['S111', [], 'S11', [], []], ['S112', [], 'S11', [], []]],\n",
       "   'S1',\n",
       "   [],\n",
       "   []],\n",
       "  ['S12',\n",
       "   [['S121', [], 'S12', [], []], ['S122', [], 'S12', [], []]],\n",
       "   'S1',\n",
       "   [],\n",
       "   []]],\n",
       " None,\n",
       " [['[*]', 'S11', [], [], []],\n",
       "  [None, 'S2', ['ev1', 'ev2', 'ev3'], ['\"foo == 0\"'], ['\"foo = 1\"']]],\n",
       " []]"
      ]
     },
     "execution_count": 14,
     "metadata": {},
     "output_type": "execute_result"
    }
   ],
   "source": [
    "processa_estado(None, tree.children[1].children)"
   ]
  },
  {
   "cell_type": "code",
   "execution_count": null,
   "metadata": {},
   "outputs": [],
   "source": []
  }
 ],
 "metadata": {
  "kernelspec": {
   "display_name": "Python 3",
   "language": "python",
   "name": "python3"
  },
  "language_info": {
   "codemirror_mode": {
    "name": "ipython",
    "version": 3
   },
   "file_extension": ".py",
   "mimetype": "text/x-python",
   "name": "python",
   "nbconvert_exporter": "python",
   "pygments_lexer": "ipython3",
   "version": "3.5.2"
  }
 },
 "nbformat": 4,
 "nbformat_minor": 2
}
