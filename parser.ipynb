{
 "cells": [
  {
   "cell_type": "code",
   "execution_count": 44,
   "metadata": {},
   "outputs": [
    {
     "data": {
      "text/plain": [
       "' CORRIGIR: Transições realizadas externamente ao estado, não são incluídas devidamente no estado correspondente.\\n    Ficam como transições da root.'"
      ]
     },
     "execution_count": 44,
     "metadata": {},
     "output_type": "execute_result"
    }
   ],
   "source": [
    "import lark\n",
    "\n",
    "\n",
    "grammar = \"\"\"root: (state | transition)*\n",
    "state: \"state\" STATE \"{\" (state | transition | internal_transition)* \"}\"\n",
    "internal_transition: \":\" TRIGGER ((\",\" TRIGGER)*)? (\"[\" GUARD \"]\")? (\"/\" BEHAVIOR)?\n",
    "transition: (STATE | ENDPOINT)? \"->\" (STATE | ENDPOINT) \":\" (TRIGGER (\",\" TRIGGER)*)? ((\"[\" GUARD \"]\")? (\"/\" BEHAVIOR)?)?\n",
    "\n",
    "STATE: CNAME\n",
    "TRIGGER: CNAME\n",
    "GUARD: ESCAPED_STRING\n",
    "BEHAVIOR: ESCAPED_STRING\n",
    "ENDPOINT: \"[*]\"\n",
    "\n",
    "%import common.CNAME\n",
    "%import common.ESCAPED_STRING\n",
    "%import common.LF\n",
    "%import common.LETTER\n",
    "%import common.INT -> NUMBER\n",
    "%import common.WS\n",
    "%ignore WS\"\"\"\n",
    "json_parser = lark.Lark(grammar, start=\"root\")\n",
    "\n",
    "\n",
    "text = \"\"\"[*] -> S1 : ev0 / \"c = 1;\"\n",
    "\n",
    "\tstate S1 {\n",
    "\t\t[*] -> S11 :\n",
    "\n",
    "\t\tstate S11 {\n",
    "\t\t\tstate S111 {\n",
    "\n",
    "\t\t\t}\n",
    "\t\t\tstate S112 {\n",
    "\n",
    "\t\t\t}\n",
    "\t\t}\n",
    "\n",
    "\t\tstate S12 {\n",
    "\t\t\tstate S121 {\n",
    "\n",
    "\t\t\t}\n",
    "\t\t\tstate S122 {\n",
    "\n",
    "\t\t\t}\n",
    "\t\t}\n",
    "\n",
    "\t\t-> S2 : ev1, ev2, ev3 [\"foo == 0\"] / \"foo = 1\"\n",
    "\t}\n",
    "\n",
    "\tstate S2 {\n",
    "\t\tstate S21 {\n",
    "\n",
    "\t\t}\n",
    "\t\tstate S22 {\n",
    "\n",
    "\t\t}\n",
    "         : ev11, ev22, ev33, ev44 [\"foo == 1\"] / \"foo = 0\"\n",
    "\t}\n",
    "    S21 -> S22 : ev21 [\"foo == 0\"] / \"foo = 1\"\n",
    "\"\"\"\n",
    "tree = json_parser.parse(text)\n",
    "#print(tree.pretty())\n",
    "\n",
    "actions = {\"root\": None,\n",
    "           \"transition\": None,\n",
    "           \"state\": None}\n",
    "\n",
    "def processa_transicao(children, current_state):\n",
    "    #print(\"Children is \", children)\n",
    "    if children[1].type in [\"STATE\", \"ENDPOINT\"]:\n",
    "        transicao = [children[0].value, children[1].value, [], [], []]   #Estado inicial, Estado final, Trigger, Guard, Behavior\n",
    "        children = children[1:]\n",
    "    else:\n",
    "        transicao = [current_state, children[0].value, [], [], []]\n",
    "    for node in children[1:]:\n",
    "        if node.type == \"TRIGGER\":\n",
    "            transicao[2].append(node.value)\n",
    "        elif node.type == \"GUARD\":\n",
    "            transicao[3].append(node.value)\n",
    "        elif node.type == \"BEHAVIOR\":\n",
    "            transicao[4].append(node.value)\n",
    "        else:\n",
    "            print(\"Tipo de nó desconhecido\", type(node))\n",
    "\n",
    "    return transicao\n",
    "\n",
    "def processa_transicao_interna(children, current_state):\n",
    "    #print(\"Transição interna detectada.\", children)\n",
    "    transicao_interna = [current_state, [], [], []]   #Nome do estado, Trigger, Guard, Behavior\n",
    "    for node in children:\n",
    "        if node.type == \"TRIGGER\":\n",
    "            transicao_interna[1].append(node.value)\n",
    "        elif node.type == \"GUARD\":\n",
    "            transicao_interna[2].append(node.value)\n",
    "        elif node.type == \"BEHAVIOR\":\n",
    "            transicao_interna[3].append(node.value)\n",
    "        else:\n",
    "            print(\"Tipo de nó desconhecido\", type(node))\n",
    "\n",
    "    return transicao_interna\n",
    "    \n",
    "\n",
    "def processa_estado(parent, children):\n",
    "    estado = [\"\", [], parent, [], []]   #Nome do estado, Filhos, Pai, Transições, Transições internas\n",
    "    for node in children:\n",
    "        if type(node) == lark.lexer.Token:\n",
    "            if node.type == \"STATE\":\n",
    "                estado[0] = node.value\n",
    "                #print(\"Detectamos um Token: \", node.value)\n",
    "            else:\n",
    "                print(\"Token desconhecido\")\n",
    "    \n",
    "        elif type(node) == lark.tree.Tree:\n",
    "            #print(\"Detectamos uma Tree: \", node.children[0].value)\n",
    "            if node.data == \"state\":\n",
    "                estado[1].append(processa_estado(estado[0], node.children))\n",
    "            elif node.data == \"transition\":\n",
    "                estado[3].append(processa_transicao(node.children, estado[0]))  #já envia a lista de filhos\n",
    "                '''#testar se tem estado inicial'''\n",
    "            elif node.data == \"internal_transition\":\n",
    "                estado[4].append(processa_transicao_interna(node.children, estado[0]))\n",
    "            else:\n",
    "                print(\"Árvore desconhecida: \", node.data)\n",
    "        else:\n",
    "            print(\"Tipo de nó desconhecido\", type(node))\n",
    "    \n",
    "    return estado\n",
    "\n",
    "#Imprime a árvore\n",
    "def pretty(tree, indentacao=\"\"):\n",
    "   # actions[tree.data](tree.children)\n",
    "    print(indentacao + \"Data: {}\".format(tree.data))\n",
    "    for node in tree.children:\n",
    "        if type(node) == lark.tree.Tree:\n",
    "            print(indentacao + \"===Tree===\")\n",
    "            pretty(node, indentacao + \"   \")\n",
    "        else:\n",
    "            print(\"{}Child: {}\".format(indentacao, node))\n",
    "\n",
    "'''print(processa_transicao(tree.children[1].children[4].children))'''\n",
    "\n",
    "\n",
    "'''pretty(tree)'''\n",
    "\n",
    "''' CORRIGIR: Transições realizadas externamente ao estado, não são incluídas devidamente no estado correspondente.\n",
    "    Ficam como transições da root.'''"
   ]
  },
  {
   "cell_type": "code",
   "execution_count": 45,
   "metadata": {},
   "outputs": [
    {
     "data": {
      "text/plain": [
       "['',\n",
       " [['S1',\n",
       "   [['S11',\n",
       "     [['S111', [], 'S11', [], []], ['S112', [], 'S11', [], []]],\n",
       "     'S1',\n",
       "     [],\n",
       "     []],\n",
       "    ['S12',\n",
       "     [['S121', [], 'S12', [], []], ['S122', [], 'S12', [], []]],\n",
       "     'S1',\n",
       "     [],\n",
       "     []]],\n",
       "   '',\n",
       "   [['[*]', 'S11', [], [], []],\n",
       "    ['S1', 'S2', ['ev1', 'ev2', 'ev3'], ['\"foo == 0\"'], ['\"foo = 1\"']]],\n",
       "   []],\n",
       "  ['S2',\n",
       "   [['S21', [], 'S2', [], []], ['S22', [], 'S2', [], []]],\n",
       "   '',\n",
       "   [],\n",
       "   [['S2', ['ev11', 'ev22', 'ev33', 'ev44'], ['\"foo == 1\"'], ['\"foo = 0\"']]]]],\n",
       " None,\n",
       " [['[*]', 'S1', ['ev0'], [], ['\"c = 1;\"']],\n",
       "  ['S21', 'S22', ['ev21'], ['\"foo == 0\"'], ['\"foo = 1\"']]],\n",
       " []]"
      ]
     },
     "execution_count": 45,
     "metadata": {},
     "output_type": "execute_result"
    }
   ],
   "source": [
    "#Nome do estado, Filhos, Pai, Transições, Transições internas\n",
    "root_state = processa_estado(None, tree.children)\n",
    "root_state"
   ]
  },
  {
   "cell_type": "code",
   "execution_count": 3,
   "metadata": {},
   "outputs": [
    {
     "data": {
      "text/plain": [
       "[Tree(transition, [Token(ENDPOINT, '[*]'), Token(STATE, 'S1'), Token(TRIGGER, 'ev0'), Token(BEHAVIOR, '\"c = 1;\"')]),\n",
       " Tree(state, [Token(STATE, 'S1'), Tree(transition, [Token(ENDPOINT, '[*]'), Token(STATE, 'S11')]), Tree(state, [Token(STATE, 'S11'), Tree(state, [Token(STATE, 'S111')]), Tree(state, [Token(STATE, 'S112')])]), Tree(state, [Token(STATE, 'S12'), Tree(state, [Token(STATE, 'S121')]), Tree(state, [Token(STATE, 'S122')])]), Tree(transition, [Token(STATE, 'S2'), Token(TRIGGER, 'ev1'), Token(TRIGGER, 'ev2'), Token(TRIGGER, 'ev3'), Token(GUARD, '\"foo == 0\"'), Token(BEHAVIOR, '\"foo = 1\"')])]),\n",
       " Tree(state, [Token(STATE, 'S2'), Tree(state, [Token(STATE, 'S21')]), Tree(state, [Token(STATE, 'S22')]), Tree(internal_transition, [Token(TRIGGER, 'ev11'), Token(TRIGGER, 'ev22'), Token(TRIGGER, 'ev33'), Token(TRIGGER, 'ev44'), Token(GUARD, '\"foo == 1\"'), Token(BEHAVIOR, '\"foo = 0\"')])])]"
      ]
     },
     "execution_count": 3,
     "metadata": {},
     "output_type": "execute_result"
    }
   ],
   "source": [
    "tree.children"
   ]
  },
  {
   "cell_type": "markdown",
   "metadata": {},
   "source": [
    "Oi Debs, falei com Hermano agora.\n",
    "Ele comentou que seria bom continuar assim:\n",
    "\"Assumindo que já temos uma lista de estados, outra de transições e outra de eventos, faça o código que vai gerar os arquivos finais. Depois disso, implemente a parte do código que gerará essas listas.\""
   ]
  },
  {
   "cell_type": "code",
   "execution_count": 67,
   "metadata": {},
   "outputs": [
    {
     "name": "stdout",
     "output_type": "stream",
     "text": [
      "ev21\n"
     ]
    }
   ],
   "source": [
    "state_list = ['S1', 'S11', 'S111', 'S12', 'S121', 'S122', 'S2', 'S21', 'S22']\n",
    "\n",
    "event_list = ['ev1', 'ev2', 'ev3', 'ev11', 'ev22', 'ev33', 'ev44', 'ev0', 'ev21', 'EV']\n",
    "\n",
    "transition_list = [['S1', 'S2', ['ev1', 'ev2', 'ev3'], ['\"foo == 0\"'], ['\"foo = 1\"']], ['S21', 'S22', ['ev21'], ['\"foo == 0\"'], ['\"foo = 1\"']], ['[*]', 'S1', ['ev0'], [], ['\"c = 1;\"']], ['S2', ['ev11', 'ev22', 'ev33', 'ev44'], ['\"foo == 1\"'], ['\"foo = 0\"']]]\n",
    "\n",
    "transition_list[3]\n",
    "for event in transition_list[1][-3]:\n",
    "    print (event)"
   ]
  },
  {
   "cell_type": "code",
   "execution_count": 68,
   "metadata": {},
   "outputs": [],
   "source": [
    "\n",
    "#Função que preenche a primeira parte do código main_hsm.\n",
    "#Includes de outras bibliotecas e lista de eventos\n",
    "\n",
    "#Depois alterar os nomes das funções e comentar\n",
    "def create_header_events (event_list):\n",
    "    main_file = open('main_hsm.txt','w') \n",
    "    main_file.write ('''#include <avr/pgmspace.h>\n",
    "#include \"ch.h\"\n",
    "#include \"hal.h\"\n",
    "#include \"chprintf.h\"\n",
    "#include \"event.h\"\n",
    "#include \"sm.h\"\n",
    "#include \"transitions.h\"\n",
    "#include <string.h>\n",
    "\n",
    "''')\n",
    "    main_file.write ('enum {\\n\\t' + event_list[0] + ' = USER_EVENT')\n",
    "    for event in event_list[1:]:\n",
    "        main_file.write(',\\n\\t' + event)\n",
    "    main_file.write('\\n};')\n",
    "    main_file.close()\n",
    "\n",
    "create_header_events(event_list)\n"
   ]
  },
  {
   "cell_type": "code",
   "execution_count": 69,
   "metadata": {},
   "outputs": [],
   "source": [
    "#Funcao que cria as funções de call back de cada estado.. cb_status \n",
    "\n",
    "def create_cb_status(state_list):\n",
    "    main_file = open('main_hsm.txt','a')\n",
    "    main_file.write('''\\n\\ncb_status init_cb(event_t ev);\\n''')\n",
    "    for state in state_list:\n",
    "        main_file.write('\\ncb_status fn_' + state + '_cb(event_t ev);')\n",
    "    main_file.close()\n",
    "\n",
    "create_cb_status(state_list)"
   ]
  },
  {
   "cell_type": "code",
   "execution_count": 86,
   "metadata": {},
   "outputs": [],
   "source": [
    "#Funcao que cria o corpo das funções de call back dos estados e suas transições\n",
    "#Falta incluir o init [*]    Por enquanto está sendo ignorado\n",
    "\n",
    "def create_function_body(state_list, transition_list):\n",
    "    main_file = open('main_hsm.txt','a')\n",
    "    main_file.write('''\n",
    "\n",
    "cb_status init_cb(event_t ev)\n",
    "{\n",
    "        Top_init_tran();\n",
    "        return EVENT_HANDLED;\n",
    "}\n",
    "''')\n",
    "    for state in state_list:\n",
    "        main_file.write('\\n\\ncb_status fn_' + state + '_cb(event_t ev)' + '''\n",
    "{\n",
    "        switch(ev) {\n",
    "        case ENTRY_EVENT:\n",
    "                return EVENT_HANDLED;\n",
    "        case EXIT_EVENT:\n",
    "                return EVENT_HANDLED;''')\n",
    "        for transition in transition_list:\n",
    "            if transition[0] == state:\n",
    "                for event in transition[-3]:\n",
    "                    main_file.write('\\n\\tcase EVENT_' + event + ':')\n",
    "                main_file.write('\\n\\t\\t' + 'fn_' + transition[0] + '_' + transition[-4] + '_tran();\\n\\t\\treturn EVENT_HANDLED;')\n",
    "        main_file.write('\\n\\t}\\n\\treturn EVENT_NOT_HANDLED;\\n}')\n",
    "    main_file.close()\n",
    "    \n",
    "create_function_body(state_list, transition_list)\n",
    "\n"
   ]
  },
  {
   "cell_type": "code",
   "execution_count": null,
   "metadata": {},
   "outputs": [],
   "source": []
  }
 ],
 "metadata": {
  "kernelspec": {
   "display_name": "Python 3",
   "language": "python",
   "name": "python3"
  },
  "language_info": {
   "codemirror_mode": {
    "name": "ipython",
    "version": 3
   },
   "file_extension": ".py",
   "mimetype": "text/x-python",
   "name": "python",
   "nbconvert_exporter": "python",
   "pygments_lexer": "ipython3",
   "version": "3.6.8"
  }
 },
 "nbformat": 4,
 "nbformat_minor": 2
}
